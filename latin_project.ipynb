{
 "cells": [
  {
   "cell_type": "markdown",
   "metadata": {},
   "source": [
    "# Изучение распределения прилагательных <i>niger</i> и <i>ater</i> в латинской прозе и поэзии\n",
    "\n",
    "## Папоротский Михаил, БКЛ181\n",
    "\n",
    "### Презентация: https://docs.google.com/presentation/d/1GNGSgFR8USmTWK3aI7Xk2Yki7qpLq7s-9veaMMf3tyc/edit?usp=sharing\n"
   ]
  },
  {
   "cell_type": "markdown",
   "metadata": {},
   "source": [
    "Для начала подключаем все необходимое:"
   ]
  },
  {
   "cell_type": "code",
   "execution_count": 1,
   "metadata": {},
   "outputs": [],
   "source": [
    "import os\n",
    "import re\n",
    "from cltk.corpus.utils.importer import CorpusImporter\n",
    "from cltk.stem.lemma import LemmaReplacer\n",
    "from cltk.stem.latin.j_v import JVReplacer\n",
    "import sqlite3\n",
    "import matplotlib.pyplot as plt\n",
    "import collections\n",
    "\n",
    "corpus_importer = CorpusImporter('latin')\n",
    "corpus_importer.import_corpus('latin_models_cltk')\n",
    "\n",
    "lemmatizer = LemmaReplacer('latin')\n",
    "j = JVReplacer()\n",
    "\n",
    "conn = sqlite3.connect('latin.db')\n",
    "c = conn.cursor()"
   ]
  },
  {
   "cell_type": "markdown",
   "metadata": {},
   "source": [
    "Обрабатываем папку с прозой и папку с поэзией: лемматизируем каждый текст (предварительно удалив оттуда пунктуацию), находим количество употреблений нужных нам прилагательных и записываем* данные в датабазу**.\n",
    "\n",
    "<i>* на месте автора я поставил прочерк, потому что нужных нам авторов проще записать уже вручную пост-фактум.</i>\n",
    "\n",
    "<i>** таблица в датабазе содержит следующие колонки: имя файла, тип текста, автор, число niger, число ater, число слов в тексте.</i>"
   ]
  },
  {
   "cell_type": "code",
   "execution_count": 2,
   "metadata": {},
   "outputs": [],
   "source": [
    "def find_adj(directory):\n",
    "    for filename in os.listdir(directory): #обходим циклом каждый файл в папке\n",
    "        \n",
    "        niger_count = 0\n",
    "        ater_count = 0\n",
    "        \n",
    "        path = os.path.join(directory, filename)\n",
    "        with open(path, encoding='utf-8-sig') as f: #считываем текст из файла\n",
    "            text = f.read()\n",
    "            \n",
    "        text = text.lower()\n",
    "        text = re.sub(r'[^\\w\\s]','',text) #обрабатываем текст (пунктуация, регистр)\n",
    "        j.replace(text) #v,j -> u,i\n",
    "        lemmatized_text = lemmatizer.lemmatize(text) #лемматизируем текст\n",
    "        \n",
    "        for lemma in lemmatized_text: #считаем кол-во исследуемых прилагательных в тексте\n",
    "            if lemma == 'niger':\n",
    "                niger_count += 1\n",
    "            if lemma == 'ater1':\n",
    "                ater_count += 1\n",
    "            \n",
    "        len_of_text = len(lemmatized_text) #считаем кол-во слов в тексте\n",
    "        \n",
    "        c.execute(\"INSERT INTO texts VALUES (?, ?, ?, ?, ?, ?) \", \n",
    "                  (filename, directory, '–', niger_count, ater_count, len_of_text))\n",
    "        conn.commit()\n",
    "\n",
    "\n",
    "find_adj('prose')\n",
    "find_adj('poetry')"
   ]
  },
  {
   "cell_type": "markdown",
   "metadata": {},
   "source": [
    "Смотрим, сколько всего слов в наших корпусах:"
   ]
  },
  {
   "cell_type": "code",
   "execution_count": 3,
   "metadata": {},
   "outputs": [
    {
     "name": "stdout",
     "output_type": "stream",
     "text": [
      "[(582841, 'poetry'), (1643623, 'prose')]\n"
     ]
    }
   ],
   "source": [
    "word_sum = list(c.execute('SELECT sum(word_sum), type from texts GROUP by type'))\n",
    "print(word_sum)"
   ]
  },
  {
   "cell_type": "code",
   "execution_count": 4,
   "metadata": {
    "scrolled": true
   },
   "outputs": [
    {
     "name": "stdout",
     "output_type": "stream",
     "text": [
      "(230, 316, 'poetry')\n",
      "(31, 26, 'prose')\n"
     ]
    },
    {
     "data": {
      "image/png": "[encoded data removed]",
      "text/plain": [
       "<Figure size 432x288 with 1 Axes>"
      ]
     },
     "metadata": {
      "needs_background": "light"
     },
     "output_type": "display_data"
    }
   ],
   "source": [
    "total_uses = list(c.execute('SELECT sum(niger_count), sum(ater_count), type from texts GROUP by type'))\n",
    "\n",
    "for type_of_text in total_uses:\n",
    "    print(type_of_text)\n",
    "\n",
    "X = [1, 2]\n",
    "X2 = [3, 4]\n",
    "Y = [total_uses[0][0], total_uses[0][1]]\n",
    "Y2 = [total_uses[1][0], total_uses[1][1]]\n",
    "labels = ['niger в поэзии', 'ater в поэзии', 'niger в прозе', 'ater в прозе']\n",
    "plt.bar(X, Y, color='#B0CFFF')\n",
    "plt.bar(X2, Y2, color='#FFDBB0')\n",
    "plt.xticks(ticks=X+X2, labels=labels)\n",
    "plt.title('Общее количество употреблений niger/ater в прозе и поэзии')\n",
    "plt.ylabel('Количество')\n",
    "plt.show()"
   ]
  },
  {
   "cell_type": "markdown",
   "metadata": {},
   "source": [
    "Рассмотрим отдельно прозу:"
   ]
  },
  {
   "cell_type": "code",
   "execution_count": 5,
   "metadata": {
    "scrolled": true
   },
   "outputs": [
    {
     "name": "stdout",
     "output_type": "stream",
     "text": [
      "[(31, 26, 'prose')]\n"
     ]
    },
    {
     "data": {
      "image/png": "[encoded data removed]",
      "text/plain": [
       "<Figure size 432x288 with 1 Axes>"
      ]
     },
     "metadata": {
      "needs_background": "light"
     },
     "output_type": "display_data"
    }
   ],
   "source": [
    "prose_uses = list(c.execute('SELECT sum(niger_count), sum(ater_count), type from texts WHERE type = \"prose\" GROUP by type'))\n",
    "\n",
    "print(prose_uses)\n",
    "\n",
    "X = [1, 2]\n",
    "Y = [prose_uses[0][0], prose_uses[0][1]]\n",
    "labels = ['niger в прозе', 'ater в прозе']\n",
    "plt.bar(X, Y, color='#FFDBB0')\n",
    "plt.xticks(ticks=X, labels=labels)\n",
    "plt.title('Общее количество употреблений niger/ater в прозе')\n",
    "plt.ylabel('Количество')\n",
    "plt.show()"
   ]
  },
  {
   "cell_type": "markdown",
   "metadata": {},
   "source": [
    "Рассмотрим отдельно, как употребляют прилагательные авторы прозы:"
   ]
  },
  {
   "cell_type": "code",
   "execution_count": 8,
   "metadata": {},
   "outputs": [
    {
     "name": "stdout",
     "output_type": "stream",
     "text": [
      "('Непот', 100, 1, 0)\n",
      "('Светоний', 100, 4, 0)\n",
      "('Витрувий', 70, 7, 3)\n",
      "('Сенека', 58, 7, 5)\n",
      "('Цицерон', 58, 7, 5)\n",
      "('Тацит', 50, 2, 2)\n",
      "('Апулей', 21, 3, 11)\n",
      "('Гирций', None, 0, 0)\n",
      "('Неизвестно', None, 0, 0)\n",
      "('Саллюстий', None, 0, 0)\n",
      "('Цезарь', None, 0, 0)\n"
     ]
    }
   ],
   "source": [
    "niger_percentage_prose = list(c.execute\n",
    "                              (\"\"\"SELECT author, sum(niger_count) * 100 / (sum(niger_count) + sum(ater_count)) as percentage,\n",
    "                              sum(niger_count), sum(ater_count)\n",
    "                              from texts where type = \"prose\" group by author order by percentage desc\"\"\"))\n",
    "\n",
    "for row in niger_percentage_prose:\n",
    "    print(row)"
   ]
  },
  {
   "cell_type": "markdown",
   "metadata": {},
   "source": [
    "Теперь рассмотрим поэзию:"
   ]
  },
  {
   "cell_type": "code",
   "execution_count": 10,
   "metadata": {},
   "outputs": [
    {
     "name": "stdout",
     "output_type": "stream",
     "text": [
      "[(230, 316, 'poetry')]\n"
     ]
    },
    {
     "data": {
      "image/png": "[encoded data removed]",
      "text/plain": [
       "<Figure size 432x288 with 1 Axes>"
      ]
     },
     "metadata": {
      "needs_background": "light"
     },
     "output_type": "display_data"
    }
   ],
   "source": [
    "poetry_uses = list(c.execute('SELECT sum(niger_count), sum(ater_count), type from texts WHERE type = \"poetry\" GROUP by type'))\n",
    "\n",
    "print(poetry_uses)\n",
    "\n",
    "X = [1, 2]\n",
    "Y = [poetry_uses[0][0], poetry_uses[0][1]]\n",
    "labels = ['niger в поэзии', 'ater в поэзии']\n",
    "plt.bar(X, Y, color='#B0CFFF')\n",
    "plt.xticks(ticks=X, labels=labels)\n",
    "plt.title('Общее количество употреблений niger/ater в поэзии')\n",
    "plt.ylabel('Количество')\n",
    "plt.show()"
   ]
  },
  {
   "cell_type": "markdown",
   "metadata": {},
   "source": [
    "И отдельно по авторам:"
   ]
  },
  {
   "cell_type": "code",
   "execution_count": 12,
   "metadata": {},
   "outputs": [
    {
     "name": "stdout",
     "output_type": "stream",
     "text": [
      "('Кальпурний', 100, 2, 0)\n",
      "('Персий', 100, 3, 0)\n",
      "('Ювенал', 84, 16, 3)\n",
      "('Манилий', 75, 9, 3)\n",
      "('Лукреций', 68, 20, 9)\n",
      "('Гораций', 56, 14, 11)\n",
      "('Гомер', 50, 1, 1)\n",
      "('Овидий', 50, 29, 29)\n",
      "('Стаций', 49, 50, 51)\n",
      "('Лукан', 48, 14, 15)\n",
      "('Валерий', 45, 14, 17)\n",
      "('Вергилий', 32, 38, 80)\n",
      "('Силий', 17, 20, 97)\n",
      "('Катулл', None, 0, 0)\n"
     ]
    }
   ],
   "source": [
    "niger_percentage_poetry = list(c.execute\n",
    "                              (\"\"\"SELECT author, sum(niger_count) * 100 / (sum(niger_count) + sum(ater_count)) as percentage,\n",
    "                              sum(niger_count), sum(ater_count)\n",
    "                              from texts where type = \"poetry\" group by author order by percentage desc\"\"\"))\n",
    "\n",
    "for row in niger_percentage_poetry:\n",
    "    print(row)"
   ]
  },
  {
   "cell_type": "markdown",
   "metadata": {},
   "source": [
    "Попробуем сделать биграммы:"
   ]
  },
  {
   "cell_type": "code",
   "execution_count": 29,
   "metadata": {},
   "outputs": [],
   "source": [
    "def get_ngrams(directory):\n",
    "    \n",
    "    bigram_ater = []\n",
    "    bigram_niger = []\n",
    "    \n",
    "    for filename in os.listdir(directory): #обходим циклом каждый файл в папке\n",
    "        path = os.path.join(directory, filename)\n",
    "        with open(path, encoding='utf-8-sig') as f: #считываем текст из файла\n",
    "            text = f.read()\n",
    "            \n",
    "        text = text.lower()\n",
    "        text = re.sub(r'[^\\w\\s]','',text) #обрабатываем текст (пунктуация, регистр)\n",
    "        j.replace(text) #v,j -> u,i\n",
    "        lemmatized_text = lemmatizer.lemmatize(text) #лемматизируем текст\n",
    "        \n",
    "        for lemma in range(len(lemmatized_text)): #находим нужные нам прилагательные и записываем их вместе с соседними словами\n",
    "            if lemmatized_text[lemma] == 'niger':\n",
    "                bigram_niger.append((lemmatized_text[lemma-1], lemmatized_text[lemma]))\n",
    "                bigram_niger.append((lemmatized_text[lemma], lemmatized_text[lemma+1]))\n",
    "            if lemmatized_text[lemma] == 'ater1':\n",
    "                bigram_ater.append((lemmatized_text[lemma-1], lemmatized_text[lemma]))\n",
    "                bigram_ater.append((lemmatized_text[lemma], lemmatized_text[lemma+1]))\n",
    "        \n",
    "    return bigram_niger, bigram_ater  "
   ]
  },
  {
   "cell_type": "code",
   "execution_count": 40,
   "metadata": {},
   "outputs": [],
   "source": [
    "def print_ngram(counter):\n",
    "    a = 0\n",
    "    while a < 10:\n",
    "        print(str(counter[a][0][0]) + ' ' + str(counter[a][0][1]) + '\\t' + str(counter[a][1]))\n",
    "        a += 1"
   ]
  },
  {
   "cell_type": "markdown",
   "metadata": {},
   "source": [
    "Делаем Counter'ы, чтобы выводить биграммы:"
   ]
  },
  {
   "cell_type": "code",
   "execution_count": null,
   "metadata": {},
   "outputs": [],
   "source": [
    "prose_bigram_niger = get_ngrams('prose')[0]\n",
    "prose_bigram_ater = get_ngrams('prose')[1]\n",
    "poetry_bigram_niger = get_ngrams('poetry')[0]\n",
    "poetry_bigram_ater = get_ngrams('poetry')[1]\n",
    "\n",
    "prose_niger_counter = collections.Counter(prose_bigram_niger).most_common()\n",
    "prose_ater_counter = collections.Counter(prose_bigram_ater).most_common()\n",
    "poetry_niger_counter = collections.Counter(poetry_bigram_niger).most_common()\n",
    "poetry_ater_counter = collections.Counter(poetry_bigram_ater).most_common()"
   ]
  },
  {
   "cell_type": "markdown",
   "metadata": {},
   "source": [
    "Печатаем получившиеся биграммы:"
   ]
  },
  {
   "cell_type": "markdown",
   "metadata": {},
   "source": [
    "<i>niger</i> в прозе: "
   ]
  },
  {
   "cell_type": "code",
   "execution_count": 41,
   "metadata": {},
   "outputs": [
    {
     "name": "stdout",
     "output_type": "stream",
     "text": [
      "et niger\t3\n",
      "niger edo1\t2\n",
      "niger qui1\t2\n",
      "qui1 niger\t2\n",
      "niger dico2\t2\n",
      "herba niger\t1\n",
      "niger cum\t1\n",
      "nocturnus niger\t1\n",
      "palla niger\t1\n",
      "niger splendescens\t1\n"
     ]
    }
   ],
   "source": [
    "print_ngram(prose_niger_counter)"
   ]
  },
  {
   "cell_type": "markdown",
   "metadata": {},
   "source": [
    "<i>ater</i> в прозе: "
   ]
  },
  {
   "cell_type": "code",
   "execution_count": 42,
   "metadata": {},
   "outputs": [
    {
     "name": "stdout",
     "output_type": "stream",
     "text": [
      "et ater1\t4\n",
      "ater1 non\t3\n",
      "sanguis ater1\t2\n",
      "denticulus ater1\t1\n",
      "ater1 venenum\t1\n",
      "an ater1\t1\n",
      "ater1 edo1\t1\n",
      "bilis ater1\t1\n",
      "ater1 socio\t1\n",
      "paries ater1\t1\n"
     ]
    }
   ],
   "source": [
    "print_ngram(prose_ater_counter)"
   ]
  },
  {
   "cell_type": "markdown",
   "metadata": {},
   "source": [
    "<i>niger</i> в поэзии: "
   ]
  },
  {
   "cell_type": "code",
   "execution_count": 43,
   "metadata": {},
   "outputs": [
    {
     "name": "stdout",
     "output_type": "stream",
     "text": [
      "et niger\t27\n",
      "qui1 niger\t7\n",
      "aut niger\t5\n",
      "niger nox\t4\n",
      "niger vir\t4\n",
      "niger fero\t4\n",
      "niger sub\t4\n",
      "niger et\t4\n",
      "turbo2 niger\t4\n",
      "niger video\t3\n"
     ]
    }
   ],
   "source": [
    "print_ngram(poetry_niger_counter)"
   ]
  },
  {
   "cell_type": "markdown",
   "metadata": {},
   "source": [
    "<i>ater</i> в поэзии: "
   ]
  },
  {
   "cell_type": "code",
   "execution_count": 44,
   "metadata": {},
   "outputs": [
    {
     "name": "stdout",
     "output_type": "stream",
     "text": [
      "et ater1\t20\n",
      "nox ater1\t15\n",
      "atque ater1\t14\n",
      "ater1 qve\t9\n",
      "ater1 in\t8\n",
      "ignis ater1\t7\n",
      "ater1 dies\t6\n",
      "nubis ater1\t5\n",
      "ater1 et\t5\n",
      "ater1 hic\t5\n"
     ]
    }
   ],
   "source": [
    "print_ngram(poetry_ater_counter)"
   ]
  }
 ],
 "metadata": {
  "kernelspec": {
   "display_name": "Python 3",
   "language": "python",
   "name": "python3"
  },
  "language_info": {
   "codemirror_mode": {
    "name": "ipython",
    "version": 3
   },
   "file_extension": ".py",
   "mimetype": "text/x-python",
   "name": "python",
   "nbconvert_exporter": "python",
   "pygments_lexer": "ipython3",
   "version": "3.7.6"
  }
 },
 "nbformat": 4,
 "nbformat_minor": 2
}
